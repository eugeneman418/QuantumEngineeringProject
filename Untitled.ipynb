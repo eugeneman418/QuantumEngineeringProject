{
 "cells": [
  {
   "cell_type": "code",
   "execution_count": 14,
   "id": "04405e0e-fa85-414e-915c-16cceba83c41",
   "metadata": {},
   "outputs": [],
   "source": [
    "import numpy as np\n",
    "import scipy as sp\n",
    "from qiskit.circuit.library import HamiltonianGate\n",
    "from qiskit import QuantumCircuit"
   ]
  },
  {
   "cell_type": "code",
   "execution_count": 7,
   "id": "28ec580d-90f3-41fd-8bee-01ebe20c5673",
   "metadata": {},
   "outputs": [
    {
     "name": "stdout",
     "output_type": "stream",
     "text": [
      "[[-0.85065081 -0.52573111]\n",
      " [-0.52573111  0.85065081]]\n"
     ]
    }
   ],
   "source": [
    "def M(a,b):\n",
    "    c = np.sqrt(a**2 + b**2)\n",
    "    m = np.sqrt(2 * (a**2+b**2 - a*c))\n",
    "    p = np.sqrt(2 * (a**2+b**2 + a*c))\n",
    "    return np.array([\n",
    "        [-b/m, -b/p],\n",
    "        [(a-c)/m, (a+c)/p]\n",
    "    ])\n"
   ]
  },
  {
   "cell_type": "code",
   "execution_count": 8,
   "id": "1c7a7640-7ad4-4f2e-8d79-b459287b18c5",
   "metadata": {},
   "outputs": [],
   "source": [
    "def H(a,b):\n",
    "    return np.array([\n",
    "        [a,b],\n",
    "        [b,-a]\n",
    "    ])"
   ]
  },
  {
   "cell_type": "code",
   "execution_count": 19,
   "id": "86437f5b-6f03-45cc-b06c-3bd7e3a5be1e",
   "metadata": {},
   "outputs": [],
   "source": [
    "def U(h, t=1):\n",
    "    return sp.linalg.expm(-1j*t*h)"
   ]
  },
  {
   "cell_type": "code",
   "execution_count": 20,
   "id": "f5045d4c-4b9e-4a8d-9f21-818132bee8a1",
   "metadata": {},
   "outputs": [],
   "source": [
    "def Ry(theta):\n",
    "    return np.array([\n",
    "        [np.cos(theta/2), -np.sin(theta/2)],\n",
    "        [np.sin(theta/2), np.cos(theta/2)]\n",
    "    ])"
   ]
  },
  {
   "cell_type": "code",
   "execution_count": 45,
   "id": "8e572e5d-0ebc-4d7f-9305-de77d8016c7a",
   "metadata": {},
   "outputs": [],
   "source": [
    "angle = 2*np.arctan2(np.sqrt(a**2+b**2)-a,b)"
   ]
  },
  {
   "cell_type": "code",
   "execution_count": 46,
   "id": "5c9a2518-c22b-42fa-a6ee-187077c22509",
   "metadata": {},
   "outputs": [
    {
     "name": "stdout",
     "output_type": "stream",
     "text": [
      "[[-6.17272876e-01-0.35184491j -4.07696761e-17-0.70368982j]\n",
      " [ 3.81833800e-17-0.70368982j -6.17272876e-01+0.35184491j]]\n",
      "[[-0.61727288-0.35184491j  0.        -0.70368982j]\n",
      " [ 0.        -0.70368982j -0.61727288+0.35184491j]]\n"
     ]
    }
   ],
   "source": [
    "u = U(H(a,b))\n",
    "print(Ry(angle) @ np.diag([ np.exp(-1j*np.sqrt(a**2+b**2)), np.exp(1j*np.sqrt(a**2+b**2)) ]) @ Ry(-angle))\n",
    "print(u)"
   ]
  },
  {
   "cell_type": "code",
   "execution_count": 13,
   "id": "d79c52d4-6adc-438c-b6fe-a993128fe719",
   "metadata": {},
   "outputs": [
    {
     "name": "stdout",
     "output_type": "stream",
     "text": [
      "[[ 0.0000000e+00 -8.8817842e-16]\n",
      " [-8.8817842e-16  0.0000000e+00]]\n"
     ]
    }
   ],
   "source": [
    "a, b = 1,2\n",
    "A = H(a,b)\n",
    "eA = sp.linalg.expm(A)\n",
    "Q = M(a,b)\n",
    "D = np.diag([np.sqrt(a**2+b**2), -np.sqrt(a**2+b**2)])\n",
    "print(eA - Q.T@sp.linalg.expm(D)@Q.T)"
   ]
  },
  {
   "cell_type": "code",
   "execution_count": 18,
   "id": "a6b8ca88-9b54-43b8-a9b9-3327e8a3b0af",
   "metadata": {},
   "outputs": [
    {
     "data": {
      "text/html": [
       "<pre style=\"word-wrap: normal;white-space: pre;background: #fff0;line-height: 1.1;font-family: &quot;Courier New&quot;,Courier,monospace\">global phase: 3.6597\n",
       "   ┌─────────────────────────┐\n",
       "q: ┤ U(1.5612,1.0527,4.1943) ├\n",
       "   └─────────────────────────┘</pre>"
      ],
      "text/plain": [
       "global phase: 3.6597\n",
       "   ┌─────────────────────────┐\n",
       "q: ┤ U(1.5612,1.0527,4.1943) ├\n",
       "   └─────────────────────────┘"
      ]
     },
     "execution_count": 18,
     "metadata": {},
     "output_type": "execute_result"
    }
   ],
   "source": [
    "C = QuantumCircuit(1)\n",
    "U = HamiltonianGate(H(a,b),1)\n",
    "C.append(U,[0])\n",
    "C.decompose().decompose().decompose().draw()\n"
   ]
  },
  {
   "cell_type": "code",
   "execution_count": 55,
   "id": "f6d15177-1328-4615-ae1c-0871c706eca1",
   "metadata": {},
   "outputs": [
    {
     "name": "stdout",
     "output_type": "stream",
     "text": [
      "[[-8.  5. -1.  0.  0.  0.  0.  0.  0.  0.  0.  0. -1.  5.]\n",
      " [ 5. -8.  5. -1.  0.  0.  0.  0.  0.  0.  0.  0.  0. -1.]\n",
      " [-1.  5. -8.  5. -1.  0.  0.  0.  0.  0.  0.  0.  0.  0.]\n",
      " [ 0. -1.  5. -8.  5. -1.  0.  0.  0.  0.  0.  0.  0.  0.]\n",
      " [ 0.  0. -1.  5. -8.  5. -1.  0.  0.  0.  0.  0.  0.  0.]\n",
      " [ 0.  0.  0. -1.  5. -8.  5. -1.  0.  0.  0.  0.  0.  0.]\n",
      " [ 0.  0.  0.  0. -1.  5. -8.  5. -1.  0.  0.  0.  0.  0.]\n",
      " [ 0.  0.  0.  0.  0. -1.  5. -8.  5. -1.  0.  0.  0.  0.]\n",
      " [ 0.  0.  0.  0.  0.  0. -1.  5. -8.  5. -1.  0.  0.  0.]\n",
      " [ 0.  0.  0.  0.  0.  0.  0. -1.  5. -8.  5. -1.  0.  0.]\n",
      " [ 0.  0.  0.  0.  0.  0.  0.  0. -1.  5. -8.  5. -1.  0.]\n",
      " [ 0.  0.  0.  0.  0.  0.  0.  0.  0. -1.  5. -8.  5. -1.]\n",
      " [-1.  0.  0.  0.  0.  0.  0.  0.  0.  0. -1.  5. -8.  5.]\n",
      " [ 5. -1.  0.  0.  0.  0.  0.  0.  0.  0.  0. -1.  5. -8.]]\n"
     ]
    }
   ],
   "source": [
    "\n",
    "def create_A(a, b, N): \n",
    "    A = np.zeros((N,N)) \n",
    "    for i in range(0,N): \n",
    "        A[i][i]=-2*a-6*b\n",
    "    for i in range(0,N-1):\n",
    "        A[i][i+1]=a+4*b\n",
    "        A[i+1][i]=a+4*b\n",
    "    for i in range(0,N-2): \n",
    "        A[i][i+2]=-b \n",
    "        A[i+2][i]=-b\n",
    "    A[0][N-2]=-b \n",
    "    A[0][N-1]=a+4*b \n",
    "    A[1][N-1]=-b\n",
    "    A[N-1][0]=a+4*b\n",
    "    A[N-1][1]=-b \n",
    "    A[N-2][0]=-b \n",
    "    return A\n",
    "\n",
    "print(create_A(1,1,14))"
   ]
  },
  {
   "cell_type": "code",
   "execution_count": 58,
   "id": "36f8b123-3fd4-46f3-97d9-37ecbdece1da",
   "metadata": {},
   "outputs": [
    {
     "ename": "IndexError",
     "evalue": "invalid index to scalar variable.",
     "output_type": "error",
     "traceback": [
      "\u001b[1;31m---------------------------------------------------------------------------\u001b[0m",
      "\u001b[1;31mIndexError\u001b[0m                                Traceback (most recent call last)",
      "Cell \u001b[1;32mIn[58], line 2\u001b[0m\n\u001b[0;32m      1\u001b[0m bins \u001b[38;5;241m=\u001b[39m np\u001b[38;5;241m.\u001b[39mint32(\u001b[38;5;241m180\u001b[39m\u001b[38;5;241m/\u001b[39m\u001b[38;5;241m45\u001b[39m)\n\u001b[1;32m----> 2\u001b[0m \u001b[38;5;28mprint\u001b[39m(\u001b[43mbins\u001b[49m\u001b[43m[\u001b[49m\u001b[38;5;241;43m0\u001b[39;49m\u001b[43m,\u001b[49m\u001b[38;5;241;43m1\u001b[39;49m\u001b[43m]\u001b[49m)\n",
      "\u001b[1;31mIndexError\u001b[0m: invalid index to scalar variable."
     ]
    }
   ],
   "source": [
    "bins = np.int32(180/45)\n",
    "print(bins[0,1])"
   ]
  },
  {
   "cell_type": "code",
   "execution_count": null,
   "id": "93fa3efb-24c6-409e-89a8-33bddc0afe56",
   "metadata": {},
   "outputs": [],
   "source": []
  }
 ],
 "metadata": {
  "kernelspec": {
   "display_name": "Python 3 (ipykernel)",
   "language": "python",
   "name": "python3"
  },
  "language_info": {
   "codemirror_mode": {
    "name": "ipython",
    "version": 3
   },
   "file_extension": ".py",
   "mimetype": "text/x-python",
   "name": "python",
   "nbconvert_exporter": "python",
   "pygments_lexer": "ipython3",
   "version": "3.11.4"
  }
 },
 "nbformat": 4,
 "nbformat_minor": 5
}
